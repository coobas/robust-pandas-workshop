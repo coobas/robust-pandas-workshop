{
 "cells": [
  {
   "cell_type": "markdown",
   "metadata": {},
   "source": [
    "# Data loading module\n",
    "\n",
    "The [`loader`](weatherlyser/loader.py) module has been prepared for your convenience to load the data from two sources:\n",
    "* Open Meteo API\n",
    "* Czech Hydrometeorological Institute\n",
    "You will not need to modify this module up to just one exercise described below.\n",
    "\n",
    "The module uses already some techniques and libraries that are worth mentioning:\n",
    "* [`httpx`](https://www.python-httpx.org/) library for HTTP requests.\n",
    "* [`Pydantic`](https://docs.pydantic.dev/latest/) library for easier and safer deserialisation of JSON responses.\n",
    "* [`Pandera`](https://pandera.readthedocs.io/en/stable/) for Pandas schemas validation.\n",
    "* Type annotations to be checked by [`mypy`](https://mypy.readthedocs.io/en/stable/)."
   ]
  },
  {
   "cell_type": "markdown",
   "metadata": {},
   "source": [
    "### Load data from Open Meteo API\n",
    "\n",
    "This is how we can use the loaders and processors for this workshop.\n",
    "Note that we will use the higher level functions as we we are not interested in the details of the data loading.\n"
   ]
  },
  {
   "cell_type": "code",
   "execution_count": null,
   "metadata": {},
   "outputs": [],
   "source": [
    "import pandas as pd\n",
    "\n",
    "from weatherlyser import api_models, loader, processors\n",
    "\n",
    "\n",
    "request = api_models.ArchiveQueryParameters(\n",
    "    latitude=50.1003,\n",
    "    longitude=14.2555,\n",
    "    hourly=[\n",
    "        \"temperature_2m\",\n",
    "        \"relativehumidity_2m\",\n",
    "\n",
    "    ],\n",
    "    start_date=pd.Timestamp(\"2010-03-21\"),\n",
    "    end_date=pd.Timestamp(\"2010-03-31\"),\n",
    "    models=[\"best_match\", \"era5\"],\n",
    ")\n",
    "\n",
    "response = loader.load_open_meteo_archive_data(request)\n",
    "\n",
    "response"
   ]
  },
  {
   "cell_type": "code",
   "execution_count": null,
   "metadata": {},
   "outputs": [],
   "source": [
    "df_wide = processors.open_meteo_response_to_dataframe(response)\n",
    "df_wide"
   ]
  },
  {
   "cell_type": "code",
   "execution_count": null,
   "metadata": {},
   "outputs": [],
   "source": [
    "df_tidy = processors.tidy_open_meteo_dataframe(df_wide)\n",
    "df_tidy"
   ]
  },
  {
   "cell_type": "markdown",
   "metadata": {},
   "source": [
    "## Usage of Pandera in CHMI loader\n",
    "\n",
    "* We have defined `CHMIDailyDataFrame` Pandera model to validate the outputs of `load_chmi_data`. *Do not look at it now---your task is to implement it in the next exercise.*\n",
    "* This function does a non-trivial transformation of the input Excel file to a tidy DataFrame."
   ]
  },
  {
   "cell_type": "markdown",
   "metadata": {},
   "source": [
    "```python\n",
    "@pa.check_types\n",
    "def load_chmi_data(\n",
    "    path: str | pathlib.Path = DEFAULT_CHMI_DATA_PATH,\n",
    ") -> DataFrame[pa_models.CHMIDailyDataFrame]:\n",
    "    \"\"\"Load historical weather data from ČHMÚ\"\"\"\n",
    "    excel_data = pd.ExcelFile(path)\n",
    "\n",
    "    # Read all sheets but the first one\n",
    "    extracted_sheets = [\n",
    "        extract_and_clean_chmi_excel_sheet(excel_data, sheet_name)\n",
    "        for sheet_name in excel_data.sheet_names[1:]\n",
    "    ]\n",
    "    return (\n",
    "        pd.concat(extracted_sheets, axis=1)\n",
    "        .rename(columns=CZ_EN_TRANSLATION)\n",
    "        .rename(columns=lambda c: c.replace(\" \", \"_\"))\n",
    "    )\n",
    "```"
   ]
  },
  {
   "cell_type": "markdown",
   "metadata": {},
   "source": [
    "**Exercise:** \n",
    "\n",
    "*Important❗:* Before starting this exercise, checkout specific versions of some of the files in the `weatherlyser` package\n",
    "as the current version contains the solution to this exercise already 😏.\n",
    "\n",
    "To do this, run the following command:"
   ]
  },
  {
   "cell_type": "code",
   "execution_count": 1,
   "metadata": {},
   "outputs": [],
   "source": [
    "!git checkout origin/remove-solution-04 -- weatherlyser/loader.py weatherlyser/pa_models.py"
   ]
  },
  {
   "cell_type": "markdown",
   "metadata": {},
   "source": [
    "Implement a Pandera `DataFrameModel` called `CHMIDailyDataFrame` for the output of the `load_chmi_data` function and use it to validate the output of this function.\n",
    "\n",
    "1. Create `CHMIDailyDataFrame` class in the `weatherlyser/pa_models.py` file.\n",
    "2. Add all columns as `float` types, `coerce` the data by default: \n",
    "```\n",
    "average_temperature\n",
    "maximum_temperature\n",
    "minimum_temperature\n",
    "wind_speed\n",
    "air_pressure\n",
    "humidity\n",
    "precipitation\n",
    "total_snow_depth\n",
    "sunshine\n",
    "```\n",
    "1. Add `date` index column (you will need `pandera.typing.Index` for this) with `pd.Datetime` type.\n",
    "2. Add `@pa.check_types` decorator to the `load_chmi_data` function.\n",
    "3. Test your solution by running `pytest tests/test_chmi_loader.py`.\n",
    "\n",
    "*Optional:*\n",
    "\n",
    "6. Add additional value checks, e.g. `air_pressure` to be within sensible limits.\n",
    "7. Use data types that reflect more closely the data and / or use less memory."
   ]
  },
  {
   "cell_type": "markdown",
   "metadata": {},
   "source": [
    "After the exercise, *restore* the original version of the files by running:\n"
   ]
  },
  {
   "cell_type": "code",
   "execution_count": 2,
   "metadata": {},
   "outputs": [],
   "source": [
    "!git checkout main -- weatherlyser/loader.py weatherlyser/pa_models.py"
   ]
  }
 ],
 "metadata": {
  "kernelspec": {
   "display_name": "robust-pandas-europython-2023",
   "language": "python",
   "name": "python3"
  },
  "language_info": {
   "codemirror_mode": {
    "name": "ipython",
    "version": 3
   },
   "file_extension": ".py",
   "mimetype": "text/x-python",
   "name": "python",
   "nbconvert_exporter": "python",
   "pygments_lexer": "ipython3",
   "version": "3.11.4"
  },
  "orig_nbformat": 4
 },
 "nbformat": 4,
 "nbformat_minor": 2
}
