{
 "cells": [
  {
   "cell_type": "markdown",
   "metadata": {},
   "source": [
    "# Rolling windows and differences"
   ]
  },
  {
   "cell_type": "markdown",
   "metadata": {},
   "source": [
    "In this part, we will look at the evolution of time series from two other perspectives."
   ]
  },
  {
   "cell_type": "code",
   "execution_count": null,
   "metadata": {},
   "outputs": [],
   "source": [
    "# Necessary import evil\n",
    "\n",
    "import pandas as pd\n",
    "import matplotlib.pyplot as plt\n",
    "from pandas import IndexSlice as idx\n",
    "import pandera as pa\n",
    "from pandera.typing import Int16, DataFrame, Series, Category\n",
    "\n",
    "from weatherlyser.processors import get_open_meteo_data\n",
    "from weatherlyser.loader import load_chmi_data\n",
    "from weatherlyser.aggregations import get_daily_temperature_stats\n",
    "from weatherlyser.pa_models import HistoricalWeatherDataFrame"
   ]
  },
  {
   "cell_type": "code",
   "execution_count": null,
   "metadata": {},
   "outputs": [],
   "source": [
    "data = pd.read_parquet(\"./data/open_meteo_2000-2022.pq\")\n",
    "\n",
    "# Most meteorological reporting is done in local time\n",
    "data = data.tz_convert(level=\"time\", tz=\"Europe/Prague\")\n",
    "\n",
    "best_model_data = data.loc[idx[:, \"best_match\"], :].reset_index(\"model\", drop=True)"
   ]
  },
  {
   "cell_type": "markdown",
   "metadata": {},
   "source": [
    "## Rolling windows"
   ]
  },
  {
   "cell_type": "markdown",
   "metadata": {},
   "source": [
    "When you are not interested in a fixed window in time (such as \"every June\"), but rather in a moving interval ending (or being centered) around each point in the time series, you should use the `rolling` method:"
   ]
  },
  {
   "cell_type": "code",
   "execution_count": null,
   "metadata": {},
   "outputs": [],
   "source": [
    "best_model_data.rolling(\"1D\")"
   ]
  },
  {
   "cell_type": "markdown",
   "metadata": {},
   "source": [
    "As you are already familiar with, this is just the \"grouping\" object, not any computation result. However, we can do operations on it!"
   ]
  },
  {
   "cell_type": "code",
   "execution_count": null,
   "metadata": {},
   "outputs": [],
   "source": [
    "best_model_data.rolling(\"1D\")[\"temperature_2m\"].mean().loc[\"2022-01\"].plot()"
   ]
  },
  {
   "cell_type": "code",
   "execution_count": null,
   "metadata": {},
   "outputs": [],
   "source": [
    "# Compare it to the \"normal\" resample window\n",
    "\n",
    "best_model_data.resample(\"1D\")[\"temperature_2m\"].mean().loc[\"2022-01\"].plot()"
   ]
  },
  {
   "cell_type": "code",
   "execution_count": null,
   "metadata": {},
   "outputs": [],
   "source": [
    "# What was the lowest and highest temperature in the previous year?\n",
    "\n",
    "# best_model_data.rolling(\"365D\").agg([\"min\", \"max\"]).plot()"
   ]
  },
  {
   "cell_type": "markdown",
   "metadata": {},
   "source": [
    "**Warning** Long rolling windows over long indices can take forever! In our case, we can luckily operate on daily data, combining the resampling with rolling windows."
   ]
  },
  {
   "cell_type": "code",
   "execution_count": null,
   "metadata": {},
   "outputs": [],
   "source": [
    "mean_daily_temperature = best_model_data.resample(\"1D\")[\"temperature_2m\"].mean()\n",
    "mean_daily_temperature.rolling(\"365D\").mean()"
   ]
  },
  {
   "cell_type": "markdown",
   "metadata": {},
   "source": [
    "**Exercise** Find the 24 interval with the highest difference between the min and maximum temperature."
   ]
  },
  {
   "cell_type": "code",
   "execution_count": null,
   "metadata": {},
   "outputs": [],
   "source": [
    "def find_24h_max_temp_diff(df: pd.DataFrame) -> pd.Timestamp:\n",
    "    min_and_max = ...\n",
    "    difference = ...\n",
    "    max_index = ...\n",
    "    return max_index\n",
    "\n",
    "max_diff = find_24h_max_temp_diff(best_model_data)\n",
    "max_diff\n"
   ]
  },
  {
   "cell_type": "code",
   "execution_count": null,
   "metadata": {},
   "outputs": [],
   "source": [
    "best_model_data.loc[max_diff - pd.Timedelta(hours=24):max_diff, \"temperature_2m\"].plot()"
   ]
  },
  {
   "cell_type": "markdown",
   "metadata": {},
   "source": [
    "## Differences, lagged features"
   ]
  },
  {
   "cell_type": "markdown",
   "metadata": {},
   "source": [
    "When you want to see how something changed, you can use one of the two functions:\n",
    "- **shift** creates a series that is shifted vertically (by a number of rows or by a time interval)\n",
    "- **diff** does the shifting and then combines it with "
   ]
  },
  {
   "cell_type": "code",
   "execution_count": null,
   "metadata": {},
   "outputs": [],
   "source": [
    "pd.DataFrame({\n",
    "    \"temp\": mean_daily_temperature,\n",
    "    \"temp_1d_ago\": mean_daily_temperature.shift(1)\n",
    "})"
   ]
  },
  {
   "cell_type": "code",
   "execution_count": null,
   "metadata": {},
   "outputs": [],
   "source": [
    "mean_daily_temperature.shift(freq=\"1D\")"
   ]
  },
  {
   "cell_type": "code",
   "execution_count": null,
   "metadata": {},
   "outputs": [],
   "source": [
    "mean_daily_temperature.diff(1)"
   ]
  },
  {
   "cell_type": "markdown",
   "metadata": {},
   "source": [
    "**Exercise:** Find the day (and hour) when the temperature dropped the most in 24 hours and plot several interesting quantities (pressure, wind, rain, ...) alongside with it. What is the conceptual difference with respect to the last exercise?"
   ]
  },
  {
   "cell_type": "code",
   "execution_count": null,
   "metadata": {},
   "outputs": [],
   "source": [
    "def find_extreme_drop(df: DataFrame):\n",
    "    difference = ...\n",
    "    return ...\n",
    "\n",
    "extreme_drop_in_24h = find_extreme_drop(best_model_data)"
   ]
  },
  {
   "cell_type": "code",
   "execution_count": null,
   "metadata": {},
   "outputs": [],
   "source": [
    "extreme_drop_day_date = best_model_data[extreme_drop_in_24h - pd.Timedelta(hours=24):extreme_drop_in_24h]\n",
    "\n",
    "fig, ax = plt.subplots(4, figsize=(6, 10))\n",
    "extreme_drop_day_date[\"temperature_2m\"].plot(ax=ax[0])\n",
    "extreme_drop_day_date[\"surface_pressure\"].plot(ax=ax[1])\n",
    "extreme_drop_day_date[\"rain\"].plot(ax=ax[2])\n",
    "extreme_drop_day_date[\"windspeed_10m\"].plot(ax=ax[3])"
   ]
  },
  {
   "cell_type": "markdown",
   "metadata": {},
   "source": [
    "### Complex exercise: Write our own Trend/Seasonality/Error decomposition"
   ]
  },
  {
   "cell_type": "markdown",
   "metadata": {},
   "source": [
    "With long-term evolution of some quantity (temperature is a very nice example!) that shows periodic behaviour, it is useful to split it into three parts: the trend, the seasonality and the rest (\"error\"). There is a bit of alchemy in finding the appropriate mechanism for that as the split is usually somewhat artifical but we will not be bothered that much about it.\n",
    "\n",
    "One particular approach is to model the time-series using a model from `statsmodels`."
   ]
  },
  {
   "cell_type": "code",
   "execution_count": null,
   "metadata": {},
   "outputs": [],
   "source": [
    "from statsmodels.tsa.seasonal import STL\n",
    "\n",
    "stl_model = STL(mean_daily_temperature, period=365, trend=4*365 + 1, seasonal=181)\n",
    "decomposed = stl_model.fit()\n",
    "decomposed.plot();"
   ]
  },
  {
   "cell_type": "markdown",
   "metadata": {},
   "source": [
    "**Exercise:** Extract the trend and seasonality from the daily temperature means using the rolling windows (we will skip the daily seasonality as it would be a bit overcomplex).\n",
    "\n",
    "Suggested approach (not the only and right one!): \n",
    "- Take the trend as a mean over a sufficiently long rolling window\n",
    "- Take the seasonality as a mean over a shorter-period rolling window (other, more correct, approach would be to find a mean for each day of the year over multiple years - you are free to do that!) of what remains from the data\n",
    "- Take the error as what is left if you subtract the previous two.\n",
    "\n",
    "Hints. the `win_type` argument can give more weights to the observed values than the default constant one (e.g. \"triang\")"
   ]
  },
  {
   "cell_type": "code",
   "execution_count": null,
   "metadata": {},
   "outputs": [],
   "source": [
    "def decompose(series: pd.Series) -> pd.DataFrame:\n",
    "    trend = ...\n",
    "    seasonality = ...\n",
    "    error = ...\n",
    "    return pd.DataFrame({\n",
    "        \"trend\": trend,\n",
    "        \"seasonality\": seasonality,\n",
    "        \"error\": error\n",
    "    })\n"
   ]
  },
  {
   "cell_type": "code",
   "execution_count": null,
   "metadata": {},
   "outputs": [],
   "source": [
    "tse = decompose(mean_daily_temperature)"
   ]
  },
  {
   "cell_type": "code",
   "execution_count": null,
   "metadata": {},
   "outputs": [],
   "source": [
    "fig, ax = plt.subplots(4, 1, figsize=(4, 10))\n",
    "\n",
    "mean_daily_temperature.plot(ax=ax[0])\n",
    "tse[\"trend\"].plot(ax=ax[1])\n",
    "tse[\"seasonality\"].plot(ax=ax[2])\n",
    "tse[\"error\"].plot(ax=ax[3])"
   ]
  },
  {
   "cell_type": "code",
   "execution_count": null,
   "metadata": {},
   "outputs": [],
   "source": [
    "# Let's try to apply this on CHMI data as well.\n",
    "chmi_data = load_chmi_data()"
   ]
  },
  {
   "cell_type": "code",
   "execution_count": null,
   "metadata": {},
   "outputs": [],
   "source": [
    "chmi_tse = decompose(chmi_data[\"average_temperature\"])"
   ]
  },
  {
   "cell_type": "code",
   "execution_count": null,
   "metadata": {},
   "outputs": [],
   "source": [
    "fig, ax = plt.subplots(4, 1, figsize=(4, 10))\n",
    "\n",
    "chmi_data[\"average_temperature\"].plot(ax=ax[0])\n",
    "chmi_tse[\"trend\"].plot(ax=ax[1])\n",
    "chmi_tse[\"seasonality\"].plot(ax=ax[2])\n",
    "chmi_tse[\"error\"].plot(ax=ax[3])"
   ]
  },
  {
   "cell_type": "code",
   "execution_count": null,
   "metadata": {},
   "outputs": [],
   "source": []
  }
 ],
 "metadata": {
  "kernelspec": {
   "display_name": ".venv",
   "language": "python",
   "name": "python3"
  },
  "language_info": {
   "codemirror_mode": {
    "name": "ipython",
    "version": 3
   },
   "file_extension": ".py",
   "mimetype": "text/x-python",
   "name": "python",
   "nbconvert_exporter": "python",
   "pygments_lexer": "ipython3",
   "version": "3.11.2"
  },
  "orig_nbformat": 4
 },
 "nbformat": 4,
 "nbformat_minor": 2
}
