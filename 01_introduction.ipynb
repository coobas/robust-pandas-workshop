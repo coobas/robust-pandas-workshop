{
 "cells": [
  {
   "cell_type": "markdown",
   "metadata": {},
   "source": [
    "# Robust Data Transformation with Pandas: Typing, Validation, Testing\n",
    "\n",
    "*EuroPython 2023 Tutorial*\n",
    "\n",
    "*by [Jakub Urban]() and [Jan Pipek]()*\n",
    "\n",
    "## Abstract\n",
    "\n",
    "We will explore possibilities for making our data analyses and transformations in Pandas robust and production ready. We will see how advanced group-by, resample or rolling aggregations work on large time series weather data. (As a bonus, you will learn about Prague climate.) We will use type annotations and schema validations with the Pandera library to make our code more readable and robust. We will also show the potential of property-based testing using the Hypothesis package, with strategies generated from Pandera schemas. We will show how to avoid issues with time zones when working with time series data. By the end of the tutorial, you will have a deeper understanding of advanced Pandas aggregations and be able to write robust, production ready Pandas code."
   ]
  },
  {
   "cell_type": "markdown",
   "metadata": {},
   "source": [
    "## Motivation\n",
    "\n",
    "* Pandas is a great tool for data analysis and transformation.\n",
    "* It may not be obvious how to write robust and production ready code.\n",
    "  * In particular because Pandas is very permissive and flexible.\n",
    "* There are less known features and libraries that help making Pandas code more robust and better maintainable.\n",
    "* Time series data offer a spectrum of challenges that we will explore.\n",
    "  * Time zones can be tricky.\n",
    "  * Time series aggregations are not always straightforward."
   ]
  },
  {
   "cell_type": "markdown",
   "metadata": {},
   "source": [
    "## What will you learn\n",
    "\n",
    "* Writing Pandas code into reusable, testable and production ready functions.\n",
    "* Using [Pandera](https://pandera.readthedocs.io/en/stable/) for data validation.\n",
    "* Using [Hypothesis](https://hypothesis.readthedocs.io/en/latest/) for property-based testing.\n",
    "* Checking type annotations with [mypy](https://mypy.readthedocs.io/en/stable/).\n",
    "* Safe time zone handling in Pandas.\n",
    "* Advanced time series resampling and aggregations."
   ]
  }
 ],
 "metadata": {
  "language_info": {
   "name": "python"
  },
  "orig_nbformat": 4
 },
 "nbformat": 4,
 "nbformat_minor": 2
}
