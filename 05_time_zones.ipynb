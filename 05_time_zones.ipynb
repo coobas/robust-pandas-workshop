{
 "cells": [
  {
   "cell_type": "markdown",
   "metadata": {},
   "source": [
    "# Time Zones\n",
    "\n",
    "Why are time zones important?\n",
    "* Daylight savings time\n",
    "* Human behaviour due to business hours, circadian rhythm, etc.\n",
    "* Daily aggregation need timezones, esp. when comparing across time zones or doing aggregations across business hours or so.\n",
    "* Comparing data from different time zones\n",
    "  * Have you ever missed a meeting (or a train) because of a time zone mix-up? At least one of us has 😅\n",
    "\n",
    "Luckily, Pandas, and Pandera too, offers a lot of functionality to deal with time zones."
   ]
  },
  {
   "cell_type": "markdown",
   "metadata": {},
   "source": [
    "## Time zone recap\n",
    "\n",
    "* Timestamps (datetimes) may be timezone-aware or timezone-naive.\n",
    "* `UTC` is a widely accepted timezone standard. It's almost the same as GMT.\n",
    "* Timezones are specified as `UTC+/-<offset>` or by name, e.g. `Europe/Prague`.\n",
    "* Names timezone generally do not have a fixes offset, because:\n",
    "  * daylight savings time (yes, to be cancelled in the EU in 2021),\n",
    "  * the offset may change over time, not always by a full hour."
   ]
  },
  {
   "cell_type": "markdown",
   "metadata": {},
   "source": [
    "## Pandas timezone basics\n",
    "\n",
    "* `tz_localize` - convert timezone-naive to timezone-aware.\n",
    "* `tz_convert` - convert timezone-aware to another timezone (or to naive).\n",
    "* `.dt` accessor for `Series` based operations (i.e. on columns too) - access datetime properties, e.g. `.dt.tz` to access timezone.\n",
    "  * `.dt` is not needed for operations on datetime indexes.\n",
    "\n",
    "See [Pandas timezone handling section](https://pandas.pydata.org/pandas-docs/stable/user_guide/timeseries.html#time-zone-handling) for more details.\n"
   ]
  },
  {
   "cell_type": "code",
   "execution_count": null,
   "metadata": {},
   "outputs": [],
   "source": [
    "import pandas as pd"
   ]
  },
  {
   "cell_type": "code",
   "execution_count": null,
   "metadata": {},
   "outputs": [],
   "source": [
    "dti = pd.date_range(\"2018-01-01\", periods=3, freq=\"H\")\n",
    "dti\n"
   ]
  },
  {
   "cell_type": "code",
   "execution_count": null,
   "metadata": {},
   "outputs": [],
   "source": [
    "dti_utc = dti.tz_localize(\"UTC\")\n",
    "dti_utc"
   ]
  },
  {
   "cell_type": "code",
   "execution_count": null,
   "metadata": {},
   "outputs": [],
   "source": [
    "dti_us = dti_utc.tz_convert(\"US/Pacific\")\n",
    "dti_us"
   ]
  },
  {
   "cell_type": "markdown",
   "metadata": {},
   "source": [
    "You can also use `tz_convert` and `tz_localize` on `DataFrame`s, but you may need to specify the axis and / or index level.\n",
    "This is particularly useful when working with multi-indexes, as you will see later."
   ]
  },
  {
   "cell_type": "code",
   "execution_count": null,
   "metadata": {},
   "outputs": [],
   "source": [
    "pd.DataFrame({\"A\": range(len(dti_us))}, index=dti_us).tz_convert(\"Asia/Tokyo\", axis=\"index\")"
   ]
  },
  {
   "cell_type": "markdown",
   "metadata": {},
   "source": [
    "**Exercise:** \n",
    "\n",
    "*Important❗:* Before starting this exercise, checkout specific versions of some of the files in the `weatherlyser` package\n",
    "as the current version contains the solution to this exercise already 😏.\n",
    "\n",
    "To do this, run the following command:"
   ]
  },
  {
   "cell_type": "code",
   "execution_count": null,
   "metadata": {},
   "outputs": [],
   "source": [
    "!git checkout origin/remove-solution-05 -- weatherlyser/loader.py weatherlyser/pa_models.py"
   ]
  },
  {
   "cell_type": "markdown",
   "metadata": {},
   "source": [
    "\n",
    "\n",
    "1. Add time zone information the the output of the `load_chmi_data` function in [`loader`](weatherlyser/loader.py) module. \n",
    "    - You can assume the time zone is always `Europe/Prague`. \n",
    "2. Modify the `CHMIDailyDataFrame` model in [`pa_models`](weatherlyser/pa_models.py) module to check the right time zone is used.\n",
    "3. Make sure the tests are passing by running `pytest tests/test_chmi_loader.py`\n"
   ]
  },
  {
   "cell_type": "markdown",
   "metadata": {},
   "source": [
    "After the exercise, *restore* the original version of the files by running:\n"
   ]
  },
  {
   "cell_type": "code",
   "execution_count": 5,
   "metadata": {},
   "outputs": [],
   "source": [
    "!git checkout main -- weatherlyser/loader.py weatherlyser/pa_models.py"
   ]
  },
  {
   "cell_type": "markdown",
   "metadata": {},
   "source": [
    "### Pandera's coerce behaviour \n",
    "\n",
    "It's works spending a bit of time to understand Pandera's coerce behaviour when dealing with time zones.\n",
    "\n",
    "Let's assume a model like this:"
   ]
  },
  {
   "cell_type": "code",
   "execution_count": null,
   "metadata": {},
   "outputs": [],
   "source": [
    "import pandera as pa\n",
    "import pandas as pd\n",
    "from pandera.typing import Index\n",
    "from typing import Annotated\n",
    "\n",
    "class TimeIndexedDF(pa.DataFrameModel):\n",
    "    A: int\n",
    "    # timezone-naive index\n",
    "    time: Index[pd.Timestamp] = pa.Field(coerce=True, nullable=False)\n",
    "    # timezone-aware index\n",
    "    # time: Index[Annotated[pd.DatetimeTZDtype, \"ns\", \"Europe/Prague\"]] = pa.Field(coerce=True, nullable=False)"
   ]
  },
  {
   "cell_type": "code",
   "execution_count": null,
   "metadata": {},
   "outputs": [],
   "source": [
    "# select a time index that includes a DST transition from summer to winter time\n",
    "time_index = pd.date_range(\"2018-10-28\", periods=5, freq=\"H\", tz=\"Europe/Prague\")\n",
    "# this will make the time index timezone-naive\n",
    "# time_index = time_index.tz_localize(None)\n",
    "\n",
    "time_df = pd.DataFrame({\"A\": range(len(time_index))}, index=time_index)\n",
    "time_df"
   ]
  },
  {
   "cell_type": "code",
   "execution_count": null,
   "metadata": {},
   "outputs": [],
   "source": [
    "TimeIndexedDF.validate(time_df)"
   ]
  },
  {
   "cell_type": "markdown",
   "metadata": {},
   "source": [
    "What happened? Pandera coerced to *timezone-naive* index! And converted the timezone to UTC first!"
   ]
  },
  {
   "cell_type": "markdown",
   "metadata": {},
   "source": [
    "**Exercise:**\n",
    "1. Try to play with different combinations the `coerce` value in `TimeIndexedDF` model, tz-naive or tz-aware target index type, and tz-aware vs tz-naive `time_index` in the validated dataframe (by either changing the values or commenting / uncommenting relevant lines in the notebook).\n",
    "2. For `time: Index[Annotated[pd.DatetimeTZDtype, \"ns\", \"Europe/Prague\"]] = pa.Field(coerce=True, nullable=False)` version of the model and tz-naive `time_index` input, verify the validation works correctly.\n",
    "3. For the same combination as in 2., try to find an input that would be ambiguous for the coercion and thus validation would fail. (Hint: The DST change is important here.)"
   ]
  },
  {
   "cell_type": "code",
   "execution_count": null,
   "metadata": {},
   "outputs": [],
   "source": []
  },
  {
   "cell_type": "markdown",
   "metadata": {},
   "source": [
    "**Exercise:**\n",
    "1. Use the `processors.get_seasons` function to create a function than *adds* a `season` column to a dataframe with a time index.\n",
    "2. Create a Pandera dataframe model for the input and output of this new function. Enforce \"Europe/Prague\" timezone for the input and output.\n",
    "3. Add `@pa.check_types` decorator to the function.\n",
    "4. Try to interactively use the new function on the CHMI Ruzyně dataset.\n",
    "\n",
    "*Optional:*\n",
    "\n",
    "1. Create some test(s) for the new function."
   ]
  },
  {
   "cell_type": "code",
   "execution_count": null,
   "metadata": {},
   "outputs": [],
   "source": []
  }
 ],
 "metadata": {
  "kernelspec": {
   "display_name": "robust-pandas-europython-2023",
   "language": "python",
   "name": "python3"
  },
  "language_info": {
   "codemirror_mode": {
    "name": "ipython",
    "version": 3
   },
   "file_extension": ".py",
   "mimetype": "text/x-python",
   "name": "python",
   "nbconvert_exporter": "python",
   "pygments_lexer": "ipython3",
   "version": "3.11.4"
  },
  "orig_nbformat": 4
 },
 "nbformat": 4,
 "nbformat_minor": 2
}
