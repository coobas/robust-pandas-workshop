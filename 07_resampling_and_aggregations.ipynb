{
 "cells": [
  {
   "cell_type": "markdown",
   "metadata": {},
   "source": [
    "# Grouping, resampling and aggregations"
   ]
  },
  {
   "cell_type": "markdown",
   "metadata": {},
   "source": [
    "The hourly data over 23 years contain about ~800,000 observations. It is not viable to extract any knowledge by just looking at them ony by one. Thus an analysis of this sort of data almost always consists of proper **grouping** (selecting which rows we want to condense) and **aggregation** (applying an operation to produce a single or a handful of values from them)."
   ]
  },
  {
   "cell_type": "code",
   "execution_count": 2,
   "metadata": {},
   "outputs": [],
   "source": [
    "# Necessary import evil\n",
    "\n",
    "import pandas as pd\n",
    "from pandas import IndexSlice as idx, Grouper\n",
    "import pandera as pa\n",
    "from pandera.typing import Int16, DataFrame, Series, Category\n",
    "\n",
    "from weatherlyser.loader import load_chmi_data"
   ]
  },
  {
   "cell_type": "code",
   "execution_count": 3,
   "metadata": {},
   "outputs": [
    {
     "data": {
      "text/html": [
       "<div>\n",
       "<style scoped>\n",
       "    .dataframe tbody tr th:only-of-type {\n",
       "        vertical-align: middle;\n",
       "    }\n",
       "\n",
       "    .dataframe tbody tr th {\n",
       "        vertical-align: top;\n",
       "    }\n",
       "\n",
       "    .dataframe thead th {\n",
       "        text-align: right;\n",
       "    }\n",
       "</style>\n",
       "<table border=\"1\" class=\"dataframe\">\n",
       "  <thead>\n",
       "    <tr style=\"text-align: right;\">\n",
       "      <th></th>\n",
       "      <th>quantity</th>\n",
       "      <th>apparent_temperature</th>\n",
       "      <th>cloudcover</th>\n",
       "      <th>cloudcover_high</th>\n",
       "      <th>cloudcover_low</th>\n",
       "      <th>cloudcover_mid</th>\n",
       "      <th>dewpoint_2m</th>\n",
       "      <th>diffuse_radiation</th>\n",
       "      <th>direct_normal_irradiance</th>\n",
       "      <th>direct_radiation</th>\n",
       "      <th>et0_fao_evapotranspiration</th>\n",
       "      <th>...</th>\n",
       "      <th>soil_temperature_7_to_28cm</th>\n",
       "      <th>surface_pressure</th>\n",
       "      <th>temperature_2m</th>\n",
       "      <th>vapor_pressure_deficit</th>\n",
       "      <th>weathercode</th>\n",
       "      <th>winddirection_100m</th>\n",
       "      <th>winddirection_10m</th>\n",
       "      <th>windgusts_10m</th>\n",
       "      <th>windspeed_100m</th>\n",
       "      <th>windspeed_10m</th>\n",
       "    </tr>\n",
       "    <tr>\n",
       "      <th>time</th>\n",
       "      <th>model</th>\n",
       "      <th></th>\n",
       "      <th></th>\n",
       "      <th></th>\n",
       "      <th></th>\n",
       "      <th></th>\n",
       "      <th></th>\n",
       "      <th></th>\n",
       "      <th></th>\n",
       "      <th></th>\n",
       "      <th></th>\n",
       "      <th></th>\n",
       "      <th></th>\n",
       "      <th></th>\n",
       "      <th></th>\n",
       "      <th></th>\n",
       "      <th></th>\n",
       "      <th></th>\n",
       "      <th></th>\n",
       "      <th></th>\n",
       "      <th></th>\n",
       "      <th></th>\n",
       "    </tr>\n",
       "  </thead>\n",
       "  <tbody>\n",
       "    <tr>\n",
       "      <th rowspan=\"4\" valign=\"top\">2000-01-01 00:00:00+00:00</th>\n",
       "      <th>best_match</th>\n",
       "      <td>-4.8</td>\n",
       "      <td>85.0</td>\n",
       "      <td>0.0</td>\n",
       "      <td>94.0</td>\n",
       "      <td>0.0</td>\n",
       "      <td>-2.7</td>\n",
       "      <td>0.0</td>\n",
       "      <td>0.0</td>\n",
       "      <td>0.0</td>\n",
       "      <td>0.0</td>\n",
       "      <td>...</td>\n",
       "      <td>0.0</td>\n",
       "      <td>980.4</td>\n",
       "      <td>-1.4</td>\n",
       "      <td>0.05</td>\n",
       "      <td>3</td>\n",
       "      <td>255.0</td>\n",
       "      <td>243.0</td>\n",
       "      <td>10.1</td>\n",
       "      <td>12.3</td>\n",
       "      <td>5.6</td>\n",
       "    </tr>\n",
       "    <tr>\n",
       "      <th>cerra</th>\n",
       "      <td>-5.8</td>\n",
       "      <td>100.0</td>\n",
       "      <td>40.0</td>\n",
       "      <td>73.0</td>\n",
       "      <td>46.0</td>\n",
       "      <td>-3.1</td>\n",
       "      <td>0.0</td>\n",
       "      <td>0.0</td>\n",
       "      <td>0.0</td>\n",
       "      <td>0.0</td>\n",
       "      <td>...</td>\n",
       "      <td>NaN</td>\n",
       "      <td>980.6</td>\n",
       "      <td>-1.7</td>\n",
       "      <td>0.05</td>\n",
       "      <td>3</td>\n",
       "      <td>254.0</td>\n",
       "      <td>250.0</td>\n",
       "      <td>16.6</td>\n",
       "      <td>16.9</td>\n",
       "      <td>10.8</td>\n",
       "    </tr>\n",
       "    <tr>\n",
       "      <th>era5</th>\n",
       "      <td>-3.1</td>\n",
       "      <td>85.0</td>\n",
       "      <td>0.0</td>\n",
       "      <td>94.0</td>\n",
       "      <td>0.0</td>\n",
       "      <td>-1.4</td>\n",
       "      <td>0.0</td>\n",
       "      <td>0.0</td>\n",
       "      <td>0.0</td>\n",
       "      <td>0.0</td>\n",
       "      <td>...</td>\n",
       "      <td>0.4</td>\n",
       "      <td>980.7</td>\n",
       "      <td>0.0</td>\n",
       "      <td>0.06</td>\n",
       "      <td>3</td>\n",
       "      <td>255.0</td>\n",
       "      <td>243.0</td>\n",
       "      <td>10.1</td>\n",
       "      <td>12.3</td>\n",
       "      <td>5.6</td>\n",
       "    </tr>\n",
       "    <tr>\n",
       "      <th>era5_land</th>\n",
       "      <td>NaN</td>\n",
       "      <td>NaN</td>\n",
       "      <td>NaN</td>\n",
       "      <td>NaN</td>\n",
       "      <td>NaN</td>\n",
       "      <td>-2.7</td>\n",
       "      <td>NaN</td>\n",
       "      <td>NaN</td>\n",
       "      <td>NaN</td>\n",
       "      <td>NaN</td>\n",
       "      <td>...</td>\n",
       "      <td>0.0</td>\n",
       "      <td>NaN</td>\n",
       "      <td>-1.4</td>\n",
       "      <td>0.05</td>\n",
       "      <td>&lt;NA&gt;</td>\n",
       "      <td>NaN</td>\n",
       "      <td>NaN</td>\n",
       "      <td>NaN</td>\n",
       "      <td>NaN</td>\n",
       "      <td>NaN</td>\n",
       "    </tr>\n",
       "    <tr>\n",
       "      <th>2000-01-01 01:00:00+00:00</th>\n",
       "      <th>best_match</th>\n",
       "      <td>-5.0</td>\n",
       "      <td>86.0</td>\n",
       "      <td>0.0</td>\n",
       "      <td>96.0</td>\n",
       "      <td>0.0</td>\n",
       "      <td>-2.9</td>\n",
       "      <td>0.0</td>\n",
       "      <td>0.0</td>\n",
       "      <td>0.0</td>\n",
       "      <td>0.0</td>\n",
       "      <td>...</td>\n",
       "      <td>0.0</td>\n",
       "      <td>980.5</td>\n",
       "      <td>-1.6</td>\n",
       "      <td>0.05</td>\n",
       "      <td>3</td>\n",
       "      <td>249.0</td>\n",
       "      <td>235.0</td>\n",
       "      <td>11.2</td>\n",
       "      <td>12.3</td>\n",
       "      <td>5.7</td>\n",
       "    </tr>\n",
       "  </tbody>\n",
       "</table>\n",
       "<p>5 rows × 34 columns</p>\n",
       "</div>"
      ],
      "text/plain": [
       "quantity                              apparent_temperature  cloudcover  \\\n",
       "time                      model                                          \n",
       "2000-01-01 00:00:00+00:00 best_match                  -4.8        85.0   \n",
       "                          cerra                       -5.8       100.0   \n",
       "                          era5                        -3.1        85.0   \n",
       "                          era5_land                    NaN         NaN   \n",
       "2000-01-01 01:00:00+00:00 best_match                  -5.0        86.0   \n",
       "\n",
       "quantity                              cloudcover_high  cloudcover_low  \\\n",
       "time                      model                                         \n",
       "2000-01-01 00:00:00+00:00 best_match              0.0            94.0   \n",
       "                          cerra                  40.0            73.0   \n",
       "                          era5                    0.0            94.0   \n",
       "                          era5_land               NaN             NaN   \n",
       "2000-01-01 01:00:00+00:00 best_match              0.0            96.0   \n",
       "\n",
       "quantity                              cloudcover_mid  dewpoint_2m  \\\n",
       "time                      model                                     \n",
       "2000-01-01 00:00:00+00:00 best_match             0.0         -2.7   \n",
       "                          cerra                 46.0         -3.1   \n",
       "                          era5                   0.0         -1.4   \n",
       "                          era5_land              NaN         -2.7   \n",
       "2000-01-01 01:00:00+00:00 best_match             0.0         -2.9   \n",
       "\n",
       "quantity                              diffuse_radiation  \\\n",
       "time                      model                           \n",
       "2000-01-01 00:00:00+00:00 best_match                0.0   \n",
       "                          cerra                     0.0   \n",
       "                          era5                      0.0   \n",
       "                          era5_land                 NaN   \n",
       "2000-01-01 01:00:00+00:00 best_match                0.0   \n",
       "\n",
       "quantity                              direct_normal_irradiance  \\\n",
       "time                      model                                  \n",
       "2000-01-01 00:00:00+00:00 best_match                       0.0   \n",
       "                          cerra                            0.0   \n",
       "                          era5                             0.0   \n",
       "                          era5_land                        NaN   \n",
       "2000-01-01 01:00:00+00:00 best_match                       0.0   \n",
       "\n",
       "quantity                              direct_radiation  \\\n",
       "time                      model                          \n",
       "2000-01-01 00:00:00+00:00 best_match               0.0   \n",
       "                          cerra                    0.0   \n",
       "                          era5                     0.0   \n",
       "                          era5_land                NaN   \n",
       "2000-01-01 01:00:00+00:00 best_match               0.0   \n",
       "\n",
       "quantity                              et0_fao_evapotranspiration  ...  \\\n",
       "time                      model                                   ...   \n",
       "2000-01-01 00:00:00+00:00 best_match                         0.0  ...   \n",
       "                          cerra                              0.0  ...   \n",
       "                          era5                               0.0  ...   \n",
       "                          era5_land                          NaN  ...   \n",
       "2000-01-01 01:00:00+00:00 best_match                         0.0  ...   \n",
       "\n",
       "quantity                              soil_temperature_7_to_28cm  \\\n",
       "time                      model                                    \n",
       "2000-01-01 00:00:00+00:00 best_match                         0.0   \n",
       "                          cerra                              NaN   \n",
       "                          era5                               0.4   \n",
       "                          era5_land                          0.0   \n",
       "2000-01-01 01:00:00+00:00 best_match                         0.0   \n",
       "\n",
       "quantity                              surface_pressure  temperature_2m  \\\n",
       "time                      model                                          \n",
       "2000-01-01 00:00:00+00:00 best_match             980.4            -1.4   \n",
       "                          cerra                  980.6            -1.7   \n",
       "                          era5                   980.7             0.0   \n",
       "                          era5_land                NaN            -1.4   \n",
       "2000-01-01 01:00:00+00:00 best_match             980.5            -1.6   \n",
       "\n",
       "quantity                              vapor_pressure_deficit  weathercode  \\\n",
       "time                      model                                             \n",
       "2000-01-01 00:00:00+00:00 best_match                    0.05            3   \n",
       "                          cerra                         0.05            3   \n",
       "                          era5                          0.06            3   \n",
       "                          era5_land                     0.05         <NA>   \n",
       "2000-01-01 01:00:00+00:00 best_match                    0.05            3   \n",
       "\n",
       "quantity                              winddirection_100m  winddirection_10m  \\\n",
       "time                      model                                               \n",
       "2000-01-01 00:00:00+00:00 best_match               255.0              243.0   \n",
       "                          cerra                    254.0              250.0   \n",
       "                          era5                     255.0              243.0   \n",
       "                          era5_land                  NaN                NaN   \n",
       "2000-01-01 01:00:00+00:00 best_match               249.0              235.0   \n",
       "\n",
       "quantity                              windgusts_10m  windspeed_100m  \\\n",
       "time                      model                                       \n",
       "2000-01-01 00:00:00+00:00 best_match           10.1            12.3   \n",
       "                          cerra                16.6            16.9   \n",
       "                          era5                 10.1            12.3   \n",
       "                          era5_land             NaN             NaN   \n",
       "2000-01-01 01:00:00+00:00 best_match           11.2            12.3   \n",
       "\n",
       "quantity                              windspeed_10m  \n",
       "time                      model                      \n",
       "2000-01-01 00:00:00+00:00 best_match            5.6  \n",
       "                          cerra                10.8  \n",
       "                          era5                  5.6  \n",
       "                          era5_land             NaN  \n",
       "2000-01-01 01:00:00+00:00 best_match            5.7  \n",
       "\n",
       "[5 rows x 34 columns]"
      ]
     },
     "execution_count": 3,
     "metadata": {},
     "output_type": "execute_result"
    }
   ],
   "source": [
    "# Load the saved data\n",
    "data = pd.read_parquet(\"./data/open_meteo_2000-2022.pq\")\n",
    "\n",
    "data.head()"
   ]
  },
  {
   "cell_type": "code",
   "execution_count": 4,
   "metadata": {},
   "outputs": [],
   "source": [
    "# We will skip this now as it takes a lot of time!\n",
    "# HistoricalWeatherDataFrame.validate(data)"
   ]
  },
  {
   "cell_type": "code",
   "execution_count": 5,
   "metadata": {},
   "outputs": [],
   "source": [
    "# Most meteorological reporting is done in local time\n",
    "data = data.tz_convert(level=\"time\", tz=\"Europe/Prague\")"
   ]
  },
  {
   "cell_type": "markdown",
   "metadata": {},
   "source": [
    "For simplicity, we will be working with the \"best model\" for now. "
   ]
  },
  {
   "cell_type": "code",
   "execution_count": 6,
   "metadata": {},
   "outputs": [
    {
     "data": {
      "text/html": [
       "<div>\n",
       "<style scoped>\n",
       "    .dataframe tbody tr th:only-of-type {\n",
       "        vertical-align: middle;\n",
       "    }\n",
       "\n",
       "    .dataframe tbody tr th {\n",
       "        vertical-align: top;\n",
       "    }\n",
       "\n",
       "    .dataframe thead th {\n",
       "        text-align: right;\n",
       "    }\n",
       "</style>\n",
       "<table border=\"1\" class=\"dataframe\">\n",
       "  <thead>\n",
       "    <tr style=\"text-align: right;\">\n",
       "      <th>quantity</th>\n",
       "      <th>apparent_temperature</th>\n",
       "      <th>cloudcover</th>\n",
       "      <th>cloudcover_high</th>\n",
       "      <th>cloudcover_low</th>\n",
       "      <th>cloudcover_mid</th>\n",
       "      <th>dewpoint_2m</th>\n",
       "      <th>diffuse_radiation</th>\n",
       "      <th>direct_normal_irradiance</th>\n",
       "      <th>direct_radiation</th>\n",
       "      <th>et0_fao_evapotranspiration</th>\n",
       "      <th>...</th>\n",
       "      <th>soil_temperature_7_to_28cm</th>\n",
       "      <th>surface_pressure</th>\n",
       "      <th>temperature_2m</th>\n",
       "      <th>vapor_pressure_deficit</th>\n",
       "      <th>weathercode</th>\n",
       "      <th>winddirection_100m</th>\n",
       "      <th>winddirection_10m</th>\n",
       "      <th>windgusts_10m</th>\n",
       "      <th>windspeed_100m</th>\n",
       "      <th>windspeed_10m</th>\n",
       "    </tr>\n",
       "    <tr>\n",
       "      <th>time</th>\n",
       "      <th></th>\n",
       "      <th></th>\n",
       "      <th></th>\n",
       "      <th></th>\n",
       "      <th></th>\n",
       "      <th></th>\n",
       "      <th></th>\n",
       "      <th></th>\n",
       "      <th></th>\n",
       "      <th></th>\n",
       "      <th></th>\n",
       "      <th></th>\n",
       "      <th></th>\n",
       "      <th></th>\n",
       "      <th></th>\n",
       "      <th></th>\n",
       "      <th></th>\n",
       "      <th></th>\n",
       "      <th></th>\n",
       "      <th></th>\n",
       "      <th></th>\n",
       "    </tr>\n",
       "  </thead>\n",
       "  <tbody>\n",
       "    <tr>\n",
       "      <th>2000-01-01 01:00:00+01:00</th>\n",
       "      <td>-4.8</td>\n",
       "      <td>85.0</td>\n",
       "      <td>0.0</td>\n",
       "      <td>94.0</td>\n",
       "      <td>0.0</td>\n",
       "      <td>-2.7</td>\n",
       "      <td>0.0</td>\n",
       "      <td>0.0</td>\n",
       "      <td>0.0</td>\n",
       "      <td>0.0</td>\n",
       "      <td>...</td>\n",
       "      <td>0.0</td>\n",
       "      <td>980.4</td>\n",
       "      <td>-1.4</td>\n",
       "      <td>0.05</td>\n",
       "      <td>3</td>\n",
       "      <td>255.0</td>\n",
       "      <td>243.0</td>\n",
       "      <td>10.1</td>\n",
       "      <td>12.3</td>\n",
       "      <td>5.6</td>\n",
       "    </tr>\n",
       "    <tr>\n",
       "      <th>2000-01-01 02:00:00+01:00</th>\n",
       "      <td>-5.0</td>\n",
       "      <td>86.0</td>\n",
       "      <td>0.0</td>\n",
       "      <td>96.0</td>\n",
       "      <td>0.0</td>\n",
       "      <td>-2.9</td>\n",
       "      <td>0.0</td>\n",
       "      <td>0.0</td>\n",
       "      <td>0.0</td>\n",
       "      <td>0.0</td>\n",
       "      <td>...</td>\n",
       "      <td>0.0</td>\n",
       "      <td>980.5</td>\n",
       "      <td>-1.6</td>\n",
       "      <td>0.05</td>\n",
       "      <td>3</td>\n",
       "      <td>249.0</td>\n",
       "      <td>235.0</td>\n",
       "      <td>11.2</td>\n",
       "      <td>12.3</td>\n",
       "      <td>5.7</td>\n",
       "    </tr>\n",
       "    <tr>\n",
       "      <th>2000-01-01 03:00:00+01:00</th>\n",
       "      <td>-5.3</td>\n",
       "      <td>91.0</td>\n",
       "      <td>0.0</td>\n",
       "      <td>93.0</td>\n",
       "      <td>12.0</td>\n",
       "      <td>-3.0</td>\n",
       "      <td>0.0</td>\n",
       "      <td>0.0</td>\n",
       "      <td>0.0</td>\n",
       "      <td>0.0</td>\n",
       "      <td>...</td>\n",
       "      <td>0.0</td>\n",
       "      <td>980.7</td>\n",
       "      <td>-1.8</td>\n",
       "      <td>0.05</td>\n",
       "      <td>3</td>\n",
       "      <td>246.0</td>\n",
       "      <td>232.0</td>\n",
       "      <td>11.9</td>\n",
       "      <td>13.0</td>\n",
       "      <td>6.4</td>\n",
       "    </tr>\n",
       "    <tr>\n",
       "      <th>2000-01-01 04:00:00+01:00</th>\n",
       "      <td>-5.6</td>\n",
       "      <td>89.0</td>\n",
       "      <td>1.0</td>\n",
       "      <td>91.0</td>\n",
       "      <td>11.0</td>\n",
       "      <td>-3.2</td>\n",
       "      <td>0.0</td>\n",
       "      <td>0.0</td>\n",
       "      <td>0.0</td>\n",
       "      <td>0.0</td>\n",
       "      <td>...</td>\n",
       "      <td>0.0</td>\n",
       "      <td>980.6</td>\n",
       "      <td>-2.0</td>\n",
       "      <td>0.05</td>\n",
       "      <td>3</td>\n",
       "      <td>244.0</td>\n",
       "      <td>233.0</td>\n",
       "      <td>12.6</td>\n",
       "      <td>14.0</td>\n",
       "      <td>7.2</td>\n",
       "    </tr>\n",
       "    <tr>\n",
       "      <th>2000-01-01 05:00:00+01:00</th>\n",
       "      <td>-6.2</td>\n",
       "      <td>100.0</td>\n",
       "      <td>77.0</td>\n",
       "      <td>79.0</td>\n",
       "      <td>54.0</td>\n",
       "      <td>-3.7</td>\n",
       "      <td>0.0</td>\n",
       "      <td>0.0</td>\n",
       "      <td>0.0</td>\n",
       "      <td>0.0</td>\n",
       "      <td>...</td>\n",
       "      <td>0.0</td>\n",
       "      <td>980.5</td>\n",
       "      <td>-2.4</td>\n",
       "      <td>0.05</td>\n",
       "      <td>3</td>\n",
       "      <td>242.0</td>\n",
       "      <td>231.0</td>\n",
       "      <td>13.0</td>\n",
       "      <td>14.3</td>\n",
       "      <td>7.4</td>\n",
       "    </tr>\n",
       "  </tbody>\n",
       "</table>\n",
       "<p>5 rows × 34 columns</p>\n",
       "</div>"
      ],
      "text/plain": [
       "quantity                   apparent_temperature  cloudcover  cloudcover_high  \\\n",
       "time                                                                           \n",
       "2000-01-01 01:00:00+01:00                  -4.8        85.0              0.0   \n",
       "2000-01-01 02:00:00+01:00                  -5.0        86.0              0.0   \n",
       "2000-01-01 03:00:00+01:00                  -5.3        91.0              0.0   \n",
       "2000-01-01 04:00:00+01:00                  -5.6        89.0              1.0   \n",
       "2000-01-01 05:00:00+01:00                  -6.2       100.0             77.0   \n",
       "\n",
       "quantity                   cloudcover_low  cloudcover_mid  dewpoint_2m  \\\n",
       "time                                                                     \n",
       "2000-01-01 01:00:00+01:00            94.0             0.0         -2.7   \n",
       "2000-01-01 02:00:00+01:00            96.0             0.0         -2.9   \n",
       "2000-01-01 03:00:00+01:00            93.0            12.0         -3.0   \n",
       "2000-01-01 04:00:00+01:00            91.0            11.0         -3.2   \n",
       "2000-01-01 05:00:00+01:00            79.0            54.0         -3.7   \n",
       "\n",
       "quantity                   diffuse_radiation  direct_normal_irradiance  \\\n",
       "time                                                                     \n",
       "2000-01-01 01:00:00+01:00                0.0                       0.0   \n",
       "2000-01-01 02:00:00+01:00                0.0                       0.0   \n",
       "2000-01-01 03:00:00+01:00                0.0                       0.0   \n",
       "2000-01-01 04:00:00+01:00                0.0                       0.0   \n",
       "2000-01-01 05:00:00+01:00                0.0                       0.0   \n",
       "\n",
       "quantity                   direct_radiation  et0_fao_evapotranspiration  ...  \\\n",
       "time                                                                     ...   \n",
       "2000-01-01 01:00:00+01:00               0.0                         0.0  ...   \n",
       "2000-01-01 02:00:00+01:00               0.0                         0.0  ...   \n",
       "2000-01-01 03:00:00+01:00               0.0                         0.0  ...   \n",
       "2000-01-01 04:00:00+01:00               0.0                         0.0  ...   \n",
       "2000-01-01 05:00:00+01:00               0.0                         0.0  ...   \n",
       "\n",
       "quantity                   soil_temperature_7_to_28cm  surface_pressure  \\\n",
       "time                                                                      \n",
       "2000-01-01 01:00:00+01:00                         0.0             980.4   \n",
       "2000-01-01 02:00:00+01:00                         0.0             980.5   \n",
       "2000-01-01 03:00:00+01:00                         0.0             980.7   \n",
       "2000-01-01 04:00:00+01:00                         0.0             980.6   \n",
       "2000-01-01 05:00:00+01:00                         0.0             980.5   \n",
       "\n",
       "quantity                   temperature_2m  vapor_pressure_deficit  \\\n",
       "time                                                                \n",
       "2000-01-01 01:00:00+01:00            -1.4                    0.05   \n",
       "2000-01-01 02:00:00+01:00            -1.6                    0.05   \n",
       "2000-01-01 03:00:00+01:00            -1.8                    0.05   \n",
       "2000-01-01 04:00:00+01:00            -2.0                    0.05   \n",
       "2000-01-01 05:00:00+01:00            -2.4                    0.05   \n",
       "\n",
       "quantity                   weathercode  winddirection_100m  winddirection_10m  \\\n",
       "time                                                                            \n",
       "2000-01-01 01:00:00+01:00            3               255.0              243.0   \n",
       "2000-01-01 02:00:00+01:00            3               249.0              235.0   \n",
       "2000-01-01 03:00:00+01:00            3               246.0              232.0   \n",
       "2000-01-01 04:00:00+01:00            3               244.0              233.0   \n",
       "2000-01-01 05:00:00+01:00            3               242.0              231.0   \n",
       "\n",
       "quantity                   windgusts_10m  windspeed_100m  windspeed_10m  \n",
       "time                                                                     \n",
       "2000-01-01 01:00:00+01:00           10.1            12.3            5.6  \n",
       "2000-01-01 02:00:00+01:00           11.2            12.3            5.7  \n",
       "2000-01-01 03:00:00+01:00           11.9            13.0            6.4  \n",
       "2000-01-01 04:00:00+01:00           12.6            14.0            7.2  \n",
       "2000-01-01 05:00:00+01:00           13.0            14.3            7.4  \n",
       "\n",
       "[5 rows x 34 columns]"
      ]
     },
     "execution_count": 6,
     "metadata": {},
     "output_type": "execute_result"
    }
   ],
   "source": [
    "best_model_data = data.loc[idx[:, \"best_match\"], :].reset_index(\"model\", drop=True)\n",
    "best_model_data.head()"
   ]
  },
  {
   "cell_type": "markdown",
   "metadata": {},
   "source": [
    "The weather description will become handy for our first aggregations."
   ]
  },
  {
   "cell_type": "code",
   "execution_count": 7,
   "metadata": {},
   "outputs": [
    {
     "data": {
      "text/plain": [
       "time\n",
       "2000-01-01 01:00:00+01:00        Overcast\n",
       "2000-01-01 02:00:00+01:00        Overcast\n",
       "2000-01-01 03:00:00+01:00        Overcast\n",
       "2000-01-01 04:00:00+01:00        Overcast\n",
       "2000-01-01 05:00:00+01:00        Overcast\n",
       "                                 ...     \n",
       "2022-12-30 21:00:00+01:00        Overcast\n",
       "2022-12-30 22:00:00+01:00        Overcast\n",
       "2022-12-30 23:00:00+01:00        Overcast\n",
       "2022-12-31 00:00:00+01:00        Overcast\n",
       "2022-12-31 01:00:00+01:00    Mainly clear\n",
       "Name: weathercode, Length: 201601, dtype: category\n",
       "Categories (13, object): ['Clear sky', 'Drizzle, dense intensity', 'Drizzle, light intensity', 'Drizzle, moderate intensity', ..., 'Rain, slight intensity', 'Snow fall, heavy intensity', 'Snow fall, moderate intensity', 'Snow fall, slight intensity']"
      ]
     },
     "execution_count": 7,
     "metadata": {},
     "output_type": "execute_result"
    }
   ],
   "source": [
    "from weatherlyser.pa_models import WEATHER_CODES\n",
    "\n",
    "\n",
    "class WeatherCodeModel(pa.DataFrameModel):\n",
    "    weathercode: Int16 = pa.Field(ge=0, le=99, nullable=True)\n",
    "\n",
    "@pa.check_types\n",
    "# *** Annotations as a task\n",
    "def get_weather_description(df: DataFrame[WeatherCodeModel]) -> Series[Category]:\n",
    "    \"\"\"Converts the weather code column in a Pandas DataFrame\n",
    "    to a categorical column with the weather descriptions as the category levels.\n",
    "\n",
    "    Args:\n",
    "        df: A Pandas DataFrame with a column called \"weathercode\".\n",
    "\n",
    "    Returns:\n",
    "        A categorical series with a string representation of the code.\n",
    "    \"\"\"\n",
    "    # *** The mapping as a task\n",
    "    return df[\"weathercode\"].map(WEATHER_CODES).astype(\"category\")\n",
    "\n",
    "get_weather_description(best_model_data)"
   ]
  },
  {
   "cell_type": "code",
   "execution_count": 8,
   "metadata": {},
   "outputs": [],
   "source": [
    "best_model_data = best_model_data.assign(\n",
    "    description=get_weather_description(best_model_data)\n",
    ")"
   ]
  },
  {
   "cell_type": "markdown",
   "metadata": {},
   "source": [
    "## Grouping and simple aggregations"
   ]
  },
  {
   "cell_type": "code",
   "execution_count": 9,
   "metadata": {},
   "outputs": [
    {
     "data": {
      "text/plain": [
       "<pandas.core.groupby.generic.DataFrameGroupBy object at 0x000002128B0841D0>"
      ]
     },
     "execution_count": 9,
     "metadata": {},
     "output_type": "execute_result"
    }
   ],
   "source": [
    "grouped = best_model_data.groupby(\"description\")\n",
    "grouped"
   ]
  },
  {
   "cell_type": "markdown",
   "metadata": {},
   "source": [
    "What is this object? Is this some numerical result yet? No, it is actually just the segmentation of the dataframe into **groups** of **rows** that will be handled by subsequent operation.\n",
    "\n",
    "The groupby mechanism ensures that the operations done on the sub-dataframes are recombined together with the grouping key(s) as index (levels of index):"
   ]
  },
  {
   "cell_type": "code",
   "execution_count": 10,
   "metadata": {},
   "outputs": [
    {
     "data": {
      "text/plain": [
       "description\n",
       "Clear sky                        0.000000\n",
       "Drizzle, dense intensity         1.081151\n",
       "Drizzle, light intensity         0.211168\n",
       "Drizzle, moderate intensity      0.655276\n",
       "Mainly clear                     0.000000\n",
       "Overcast                         0.000000\n",
       "Partly cloudy                    0.000000\n",
       "Rain, heavy intensity            9.495000\n",
       "Rain, moderate intensity         3.432914\n",
       "Rain, slight intensity           1.698314\n",
       "Snow fall, heavy intensity       0.109375\n",
       "Snow fall, moderate intensity    0.070024\n",
       "Snow fall, slight intensity      0.050667\n",
       "Name: rain, dtype: float64"
      ]
     },
     "execution_count": 10,
     "metadata": {},
     "output_type": "execute_result"
    }
   ],
   "source": [
    "# Select a column and do a mean over it, within the categories\n",
    "grouped[\"rain\"].mean()"
   ]
  },
  {
   "cell_type": "code",
   "execution_count": 11,
   "metadata": {},
   "outputs": [
    {
     "data": {
      "text/html": [
       "<div>\n",
       "<style scoped>\n",
       "    .dataframe tbody tr th:only-of-type {\n",
       "        vertical-align: middle;\n",
       "    }\n",
       "\n",
       "    .dataframe tbody tr th {\n",
       "        vertical-align: top;\n",
       "    }\n",
       "\n",
       "    .dataframe thead th {\n",
       "        text-align: right;\n",
       "    }\n",
       "</style>\n",
       "<table border=\"1\" class=\"dataframe\">\n",
       "  <thead>\n",
       "    <tr style=\"text-align: right;\">\n",
       "      <th></th>\n",
       "      <th>min</th>\n",
       "      <th>mean</th>\n",
       "      <th>max</th>\n",
       "    </tr>\n",
       "    <tr>\n",
       "      <th>description</th>\n",
       "      <th></th>\n",
       "      <th></th>\n",
       "      <th></th>\n",
       "    </tr>\n",
       "  </thead>\n",
       "  <tbody>\n",
       "    <tr>\n",
       "      <th>Clear sky</th>\n",
       "      <td>0.0</td>\n",
       "      <td>0.000000</td>\n",
       "      <td>0.0</td>\n",
       "    </tr>\n",
       "    <tr>\n",
       "      <th>Drizzle, dense intensity</th>\n",
       "      <td>1.0</td>\n",
       "      <td>1.081151</td>\n",
       "      <td>1.2</td>\n",
       "    </tr>\n",
       "    <tr>\n",
       "      <th>Drizzle, light intensity</th>\n",
       "      <td>0.1</td>\n",
       "      <td>0.211168</td>\n",
       "      <td>0.4</td>\n",
       "    </tr>\n",
       "    <tr>\n",
       "      <th>Drizzle, moderate intensity</th>\n",
       "      <td>0.5</td>\n",
       "      <td>0.655276</td>\n",
       "      <td>0.9</td>\n",
       "    </tr>\n",
       "    <tr>\n",
       "      <th>Mainly clear</th>\n",
       "      <td>0.0</td>\n",
       "      <td>0.000000</td>\n",
       "      <td>0.0</td>\n",
       "    </tr>\n",
       "    <tr>\n",
       "      <th>Overcast</th>\n",
       "      <td>0.0</td>\n",
       "      <td>0.000000</td>\n",
       "      <td>0.0</td>\n",
       "    </tr>\n",
       "    <tr>\n",
       "      <th>Partly cloudy</th>\n",
       "      <td>0.0</td>\n",
       "      <td>0.000000</td>\n",
       "      <td>0.0</td>\n",
       "    </tr>\n",
       "    <tr>\n",
       "      <th>Rain, heavy intensity</th>\n",
       "      <td>7.7</td>\n",
       "      <td>9.495000</td>\n",
       "      <td>15.7</td>\n",
       "    </tr>\n",
       "    <tr>\n",
       "      <th>Rain, moderate intensity</th>\n",
       "      <td>2.5</td>\n",
       "      <td>3.432914</td>\n",
       "      <td>7.4</td>\n",
       "    </tr>\n",
       "    <tr>\n",
       "      <th>Rain, slight intensity</th>\n",
       "      <td>1.3</td>\n",
       "      <td>1.698314</td>\n",
       "      <td>2.4</td>\n",
       "    </tr>\n",
       "    <tr>\n",
       "      <th>Snow fall, heavy intensity</th>\n",
       "      <td>0.0</td>\n",
       "      <td>0.109375</td>\n",
       "      <td>2.0</td>\n",
       "    </tr>\n",
       "    <tr>\n",
       "      <th>Snow fall, moderate intensity</th>\n",
       "      <td>0.0</td>\n",
       "      <td>0.070024</td>\n",
       "      <td>3.3</td>\n",
       "    </tr>\n",
       "    <tr>\n",
       "      <th>Snow fall, slight intensity</th>\n",
       "      <td>0.0</td>\n",
       "      <td>0.050667</td>\n",
       "      <td>1.6</td>\n",
       "    </tr>\n",
       "  </tbody>\n",
       "</table>\n",
       "</div>"
      ],
      "text/plain": [
       "                               min      mean   max\n",
       "description                                       \n",
       "Clear sky                      0.0  0.000000   0.0\n",
       "Drizzle, dense intensity       1.0  1.081151   1.2\n",
       "Drizzle, light intensity       0.1  0.211168   0.4\n",
       "Drizzle, moderate intensity    0.5  0.655276   0.9\n",
       "Mainly clear                   0.0  0.000000   0.0\n",
       "Overcast                       0.0  0.000000   0.0\n",
       "Partly cloudy                  0.0  0.000000   0.0\n",
       "Rain, heavy intensity          7.7  9.495000  15.7\n",
       "Rain, moderate intensity       2.5  3.432914   7.4\n",
       "Rain, slight intensity         1.3  1.698314   2.4\n",
       "Snow fall, heavy intensity     0.0  0.109375   2.0\n",
       "Snow fall, moderate intensity  0.0  0.070024   3.3\n",
       "Snow fall, slight intensity    0.0  0.050667   1.6"
      ]
     },
     "execution_count": 11,
     "metadata": {},
     "output_type": "execute_result"
    }
   ],
   "source": [
    "# Multiple aggregations over the same column\n",
    "grouped[\"rain\"].agg([\"min\", \"mean\", \"max\"])"
   ]
  },
  {
   "cell_type": "markdown",
   "metadata": {},
   "source": [
    "## Resampling"
   ]
  },
  {
   "cell_type": "markdown",
   "metadata": {},
   "source": [
    "With time series, we usually do not want to group over (all) values of column, but over some interval (typically of the index or index level). The mechanism is pretty much the same but the method is called `resample` and we need an extra argument, frequency.\n",
    "\n",
    "So in order to get each year's total precipitation:"
   ]
  },
  {
   "cell_type": "code",
   "execution_count": 12,
   "metadata": {},
   "outputs": [
    {
     "data": {
      "text/plain": [
       "<pandas.core.resample.DatetimeIndexResampler object at 0x000002128B042F90>"
      ]
     },
     "execution_count": 12,
     "metadata": {},
     "output_type": "execute_result"
    }
   ],
   "source": [
    "best_model_data.resample(\"1Y\")  # 1Y = every one year"
   ]
  },
  {
   "cell_type": "markdown",
   "metadata": {},
   "source": [
    "This, in parallel to the groupby result is an object just holding the segmentations and any aggregation must be done on it:"
   ]
  },
  {
   "cell_type": "code",
   "execution_count": 13,
   "metadata": {},
   "outputs": [
    {
     "data": {
      "text/plain": [
       "time\n",
       "2000-12-31 00:00:00+01:00    586.1\n",
       "2001-12-31 00:00:00+01:00    750.0\n",
       "2002-12-31 00:00:00+01:00    953.1\n",
       "2003-12-31 00:00:00+01:00    425.6\n",
       "2004-12-31 00:00:00+01:00    587.6\n",
       "2005-12-31 00:00:00+01:00    618.0\n",
       "2006-12-31 00:00:00+01:00    581.2\n",
       "2007-12-31 00:00:00+01:00    647.9\n",
       "2008-12-31 00:00:00+01:00    611.7\n",
       "2009-12-31 00:00:00+01:00    691.1\n",
       "2010-12-31 00:00:00+01:00    820.9\n",
       "2011-12-31 00:00:00+01:00    589.1\n",
       "2012-12-31 00:00:00+01:00    674.8\n",
       "2013-12-31 00:00:00+01:00    701.6\n",
       "2014-12-31 00:00:00+01:00    614.2\n",
       "2015-12-31 00:00:00+01:00    518.9\n",
       "2016-12-31 00:00:00+01:00    635.7\n",
       "2017-12-31 00:00:00+01:00    659.8\n",
       "2018-12-31 00:00:00+01:00    424.3\n",
       "2019-12-31 00:00:00+01:00    575.4\n",
       "2020-12-31 00:00:00+01:00    694.3\n",
       "2021-12-31 00:00:00+01:00    791.4\n",
       "2022-12-31 00:00:00+01:00    848.6\n",
       "Freq: A-DEC, Name: precipitation, dtype: float64"
      ]
     },
     "execution_count": 13,
     "metadata": {},
     "output_type": "execute_result"
    }
   ],
   "source": [
    "best_model_data.resample(\"1Y\")[\"precipitation\"].sum()"
   ]
  },
  {
   "cell_type": "markdown",
   "metadata": {},
   "source": [
    "We will not be plotting much in this workshop but the simple `plot` method will still come handy to see what we calculated."
   ]
  },
  {
   "cell_type": "code",
   "execution_count": 14,
   "metadata": {},
   "outputs": [
    {
     "data": {
      "text/plain": [
       "<Axes: xlabel='time'>"
      ]
     },
     "execution_count": 14,
     "metadata": {},
     "output_type": "execute_result"
    },
    {
     "data": {
      "image/png": "[encoded data removed]",
      "text/plain": [
       "<Figure size 640x480 with 1 Axes>"
      ]
     },
     "metadata": {},
     "output_type": "display_data"
    }
   ],
   "source": [
    "best_model_data.resample(\"1Y\")[\"precipitation\"].sum().plot()"
   ]
  },
  {
   "cell_type": "markdown",
   "metadata": {},
   "source": [
    "**Exercise:** Write a function `get_daily_temperature_stats` that finds the minimum, mean and maximum temperatures for each day. (Bonus: You can annotate it with a pandera model)."
   ]
  },
  {
   "cell_type": "code",
   "execution_count": 15,
   "metadata": {},
   "outputs": [],
   "source": [
    "def get_daily_temperature_stats(df):\n",
    "   ...\n",
    "\n",
    "get_daily_temperature_stats(best_model_data)"
   ]
  },
  {
   "cell_type": "markdown",
   "metadata": {},
   "source": [
    "Sometimes, we want to combine grouping and resampling in one operation (although a nested grouping will probably work too). The **`Grouper`** class, used instead of strings as the `groupby` argument, allows to combine columns and normal/time index levels: "
   ]
  },
  {
   "cell_type": "code",
   "execution_count": 16,
   "metadata": {},
   "outputs": [
    {
     "data": {
      "text/plain": [
       "time                       model     \n",
       "2000-01-01 00:00:00+01:00  best_match    2.5\n",
       "                           cerra         3.3\n",
       "                           era5          2.5\n",
       "                           era5_land     0.0\n",
       "2000-01-02 00:00:00+01:00  best_match    0.9\n",
       "                                        ... \n",
       "2022-12-30 00:00:00+01:00  era5          1.4\n",
       "                           era5_land     0.0\n",
       "2022-12-31 00:00:00+01:00  best_match    0.0\n",
       "                           era5          0.0\n",
       "                           era5_land     0.0\n",
       "Name: precipitation, Length: 33056, dtype: float64"
      ]
     },
     "execution_count": 16,
     "metadata": {},
     "output_type": "execute_result"
    }
   ],
   "source": [
    "data.groupby([Grouper(level=\"time\", freq=\"1D\"), Grouper(level=\"model\")])[\"precipitation\"].sum() #.plot()"
   ]
  },
  {
   "cell_type": "code",
   "execution_count": 17,
   "metadata": {},
   "outputs": [
    {
     "data": {
      "text/html": [
       "<div>\n",
       "<style scoped>\n",
       "    .dataframe tbody tr th:only-of-type {\n",
       "        vertical-align: middle;\n",
       "    }\n",
       "\n",
       "    .dataframe tbody tr th {\n",
       "        vertical-align: top;\n",
       "    }\n",
       "\n",
       "    .dataframe thead th {\n",
       "        text-align: right;\n",
       "    }\n",
       "</style>\n",
       "<table border=\"1\" class=\"dataframe\">\n",
       "  <thead>\n",
       "    <tr style=\"text-align: right;\">\n",
       "      <th></th>\n",
       "      <th></th>\n",
       "      <th>min_pressure</th>\n",
       "    </tr>\n",
       "    <tr>\n",
       "      <th>time</th>\n",
       "      <th>model</th>\n",
       "      <th></th>\n",
       "    </tr>\n",
       "  </thead>\n",
       "  <tbody>\n",
       "    <tr>\n",
       "      <th rowspan=\"4\" valign=\"top\">2000-01-01 00:00:00+01:00</th>\n",
       "      <th>best_match</th>\n",
       "      <td>977.9</td>\n",
       "    </tr>\n",
       "    <tr>\n",
       "      <th>cerra</th>\n",
       "      <td>977.8</td>\n",
       "    </tr>\n",
       "    <tr>\n",
       "      <th>era5</th>\n",
       "      <td>977.9</td>\n",
       "    </tr>\n",
       "    <tr>\n",
       "      <th>era5_land</th>\n",
       "      <td>NaN</td>\n",
       "    </tr>\n",
       "    <tr>\n",
       "      <th>2000-01-02 00:00:00+01:00</th>\n",
       "      <th>best_match</th>\n",
       "      <td>978.7</td>\n",
       "    </tr>\n",
       "    <tr>\n",
       "      <th>...</th>\n",
       "      <th>...</th>\n",
       "      <td>...</td>\n",
       "    </tr>\n",
       "    <tr>\n",
       "      <th rowspan=\"2\" valign=\"top\">2022-12-30 00:00:00+01:00</th>\n",
       "      <th>era5</th>\n",
       "      <td>969.7</td>\n",
       "    </tr>\n",
       "    <tr>\n",
       "      <th>era5_land</th>\n",
       "      <td>NaN</td>\n",
       "    </tr>\n",
       "    <tr>\n",
       "      <th rowspan=\"3\" valign=\"top\">2022-12-31 00:00:00+01:00</th>\n",
       "      <th>best_match</th>\n",
       "      <td>971.1</td>\n",
       "    </tr>\n",
       "    <tr>\n",
       "      <th>era5</th>\n",
       "      <td>971.1</td>\n",
       "    </tr>\n",
       "    <tr>\n",
       "      <th>era5_land</th>\n",
       "      <td>NaN</td>\n",
       "    </tr>\n",
       "  </tbody>\n",
       "</table>\n",
       "<p>33056 rows × 1 columns</p>\n",
       "</div>"
      ],
      "text/plain": [
       "                                      min_pressure\n",
       "time                      model                   \n",
       "2000-01-01 00:00:00+01:00 best_match         977.9\n",
       "                          cerra              977.8\n",
       "                          era5               977.9\n",
       "                          era5_land            NaN\n",
       "2000-01-02 00:00:00+01:00 best_match         978.7\n",
       "...                                            ...\n",
       "2022-12-30 00:00:00+01:00 era5               969.7\n",
       "                          era5_land            NaN\n",
       "2022-12-31 00:00:00+01:00 best_match         971.1\n",
       "                          era5               971.1\n",
       "                          era5_land            NaN\n",
       "\n",
       "[33056 rows x 1 columns]"
      ]
     },
     "execution_count": 17,
     "metadata": {},
     "output_type": "execute_result"
    }
   ],
   "source": [
    "# Have names for the aggregations: name=>(field, agg.method)\n",
    "data.groupby([Grouper(level=\"time\", freq=\"1D\"), Grouper(level=\"model\")]).agg(\n",
    "    min_pressure=(\"surface_pressure\", \"min\")\n",
    ")"
   ]
  },
  {
   "cell_type": "markdown",
   "metadata": {},
   "source": [
    "**Exercise:** Can you modify your get_daily_temperature_stats so that it works for the entire data, including model?"
   ]
  },
  {
   "cell_type": "code",
   "execution_count": 18,
   "metadata": {},
   "outputs": [],
   "source": [
    "def get_daily_temperature_stats2(df):\n",
    "\n",
    "\n",
    "\n",
    "    min_temp = (\"temp\", \"min\")\n",
    "    ...\n",
    "\n",
    "get_daily_temperature_stats2(data)"
   ]
  },
  {
   "cell_type": "markdown",
   "metadata": {},
   "source": [
    "### Feature engineering\n",
    "\n"
   ]
  },
  {
   "cell_type": "markdown",
   "metadata": {},
   "source": [
    "When looking at periodically repeating phenomena, we quite often do not want to \"just\" resample but look at aggregations over all the repeating intervals, such as when we are interested in (historical) mean temperature in May. The `resample` or `groupby` (even with Grouper) will not work straightaway.\n",
    "\n",
    "The easiest way is to construct helper columns with the time series feature (such as month number)."
   ]
  },
  {
   "cell_type": "code",
   "execution_count": 19,
   "metadata": {},
   "outputs": [
    {
     "data": {
      "text/plain": [
       "DatetimeIndex(['2000-01-01 01:00:00+01:00', '2000-01-01 01:00:00+01:00',\n",
       "               '2000-01-01 01:00:00+01:00', '2000-01-01 01:00:00+01:00',\n",
       "               '2000-01-01 02:00:00+01:00', '2000-01-01 02:00:00+01:00',\n",
       "               '2000-01-01 02:00:00+01:00', '2000-01-01 02:00:00+01:00',\n",
       "               '2000-01-01 03:00:00+01:00', '2000-01-01 03:00:00+01:00',\n",
       "               ...\n",
       "               '2022-12-30 22:00:00+01:00', '2022-12-30 23:00:00+01:00',\n",
       "               '2022-12-30 23:00:00+01:00', '2022-12-30 23:00:00+01:00',\n",
       "               '2022-12-31 00:00:00+01:00', '2022-12-31 00:00:00+01:00',\n",
       "               '2022-12-31 00:00:00+01:00', '2022-12-31 01:00:00+01:00',\n",
       "               '2022-12-31 01:00:00+01:00', '2022-12-31 01:00:00+01:00'],\n",
       "              dtype='datetime64[ns, Europe/Prague]', name='time', length=792911, freq=None)"
      ]
     },
     "execution_count": 19,
     "metadata": {},
     "output_type": "execute_result"
    }
   ],
   "source": [
    "data.index.get_level_values(0)"
   ]
  },
  {
   "cell_type": "code",
   "execution_count": 20,
   "metadata": {},
   "outputs": [
    {
     "data": {
      "text/plain": [
       "month\n",
       "1     -0.571545\n",
       "2      0.580000\n",
       "3      3.869407\n",
       "4      8.896371\n",
       "5     13.576706\n",
       "6     17.526504\n",
       "7     19.227788\n",
       "8     19.107375\n",
       "9     14.413309\n",
       "10     9.578442\n",
       "11     4.616806\n",
       "12     0.848525\n",
       "Name: temperature_2m, dtype: float64"
      ]
     },
     "execution_count": 20,
     "metadata": {},
     "output_type": "execute_result"
    }
   ],
   "source": [
    "mean_temperature_per_month = best_model_data.assign(\n",
    "    month=lambda df: df.index.get_level_values(0).month\n",
    ").groupby(\"month\")[\"temperature_2m\"].mean()\n",
    "\n",
    "mean_temperature_per_month"
   ]
  },
  {
   "cell_type": "code",
   "execution_count": 21,
   "metadata": {},
   "outputs": [
    {
     "data": {
      "text/plain": [
       "<Axes: xlabel='month'>"
      ]
     },
     "execution_count": 21,
     "metadata": {},
     "output_type": "execute_result"
    },
    {
     "data": {
      "image/png": "[encoded data removed]",
      "text/plain": [
       "<Figure size 640x480 with 1 Axes>"
      ]
     },
     "metadata": {},
     "output_type": "display_data"
    }
   ],
   "source": [
    "mean_temperature_per_month.plot(kind=\"bar\")"
   ]
  },
  {
   "cell_type": "markdown",
   "metadata": {},
   "source": [
    "**Exercise** For each calendar month (i.e. January, ...), find the typical (mean) hourly evolution of temperature over the course of the day. For that, you can use the attributes of the index and the method `unstack` to turn a level of a hierarchical index into columns (for each month)."
   ]
  },
  {
   "cell_type": "code",
   "execution_count": 22,
   "metadata": {},
   "outputs": [],
   "source": [
    "def daily_monthly_pattern(df, column=\"temperature\"):\n",
    "    result = ...\n",
    "    return result.unstack(\"month\")"
   ]
  },
  {
   "cell_type": "code",
   "execution_count": 23,
   "metadata": {},
   "outputs": [
    {
     "ename": "AttributeError",
     "evalue": "'ellipsis' object has no attribute 'unstack'",
     "output_type": "error",
     "traceback": [
      "\u001b[1;31m---------------------------------------------------------------------------\u001b[0m",
      "\u001b[1;31mAttributeError\u001b[0m                            Traceback (most recent call last)",
      "Cell \u001b[1;32mIn[23], line 1\u001b[0m\n\u001b[1;32m----> 1\u001b[0m daily_monthly_pattern(best_model_data)\u001b[39m.\u001b[39mplot()\n\u001b[0;32m      2\u001b[0m daily_monthly_pattern(best_model_data)\n",
      "Cell \u001b[1;32mIn[22], line 3\u001b[0m, in \u001b[0;36mdaily_monthly_pattern\u001b[1;34m(df, column)\u001b[0m\n\u001b[0;32m      1\u001b[0m \u001b[39mdef\u001b[39;00m \u001b[39mdaily_monthly_pattern\u001b[39m(df, column\u001b[39m=\u001b[39m\u001b[39m\"\u001b[39m\u001b[39mtemperature\u001b[39m\u001b[39m\"\u001b[39m):\n\u001b[0;32m      2\u001b[0m     result \u001b[39m=\u001b[39m \u001b[39m.\u001b[39m\u001b[39m.\u001b[39m\u001b[39m.\u001b[39m\n\u001b[1;32m----> 3\u001b[0m     \u001b[39mreturn\u001b[39;00m result\u001b[39m.\u001b[39;49munstack(\u001b[39m\"\u001b[39m\u001b[39mmonth\u001b[39m\u001b[39m\"\u001b[39m)\n",
      "\u001b[1;31mAttributeError\u001b[0m: 'ellipsis' object has no attribute 'unstack'"
     ]
    }
   ],
   "source": [
    "daily_monthly_pattern(best_model_data).plot()\n",
    "daily_monthly_pattern(best_model_data)"
   ]
  },
  {
   "cell_type": "markdown",
   "metadata": {},
   "source": [
    "**Complex exercise**: For each year, find how many minimum and maximum temperature days it has (the media tell us the weather is becoming more and more extreme!)\n",
    "\n",
    "We will do this in multiple steps:\n",
    "\n",
    "* Construct features \"year\", \"month\" and \"day\".\n",
    "* Group over those and find the extremes, use `idxmax`, `idxmin` methods.\n",
    "* Extract the year from both series (beware, that you need to use the `.dt` accessor for series datetime methods)\n",
    "* Use value_counts or groupby to count the year occurences\n",
    "\n",
    "Optional parts:\n",
    "* Create a DataFrameModel checking the output: int as index (should be consecutive years somewhere around 2000), two columns (min_count, max_count?) as positive integes\n",
    "* Create a hypothesis test showing that the total number of extremes does not exceed 366 over a dataframe with more than one-year worth of data"
   ]
  },
  {
   "cell_type": "code",
   "execution_count": null,
   "metadata": {},
   "outputs": [],
   "source": [
    "def find_year_extremes(temperature_data: pd.DataFrame) -> pd.DataFrame:\n",
    "    # Create the year, month, day features\n",
    "    temperature_With_features = ...\n",
    "    \n",
    "    # For each month / day, get the extreme values\n",
    "    extreme_dates = ...\n",
    "\n",
    "    # Extract the years component\n",
    "    extreme_years = ...\n",
    "\n",
    "    # Do the final counting\n",
    "    extreme_counts = ...\n",
    "\n",
    "    return extreme_counts\n",
    "\n",
    "\n",
    "find_year_extremes(temperature_data=get_daily_temperature_stats(best_model_data))"
   ]
  },
  {
   "cell_type": "code",
   "execution_count": null,
   "metadata": {},
   "outputs": [],
   "source": [
    "# On CHMI data\n",
    "\n",
    "chmi_data = load_chmi_data()\n",
    "chmi_data_renamed = chmi_data.rename(columns={\"minimum_temperature\": \"min\", \"maximum_temperature\": \"max\"})\n",
    "find_year_extremes(chmi_data_renamed)"
   ]
  },
  {
   "cell_type": "code",
   "execution_count": null,
   "metadata": {},
   "outputs": [],
   "source": []
  }
 ],
 "metadata": {
  "kernelspec": {
   "display_name": ".venv",
   "language": "python",
   "name": "python3"
  },
  "language_info": {
   "codemirror_mode": {
    "name": "ipython",
    "version": 3
   },
   "file_extension": ".py",
   "mimetype": "text/x-python",
   "name": "python",
   "nbconvert_exporter": "python",
   "pygments_lexer": "ipython3",
   "version": "3.11.2"
  },
  "orig_nbformat": 4
 },
 "nbformat": 4,
 "nbformat_minor": 2
}
